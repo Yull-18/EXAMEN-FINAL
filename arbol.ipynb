{
  "nbformat": 4,
  "nbformat_minor": 0,
  "metadata": {
    "colab": {
      "name": "arbol.ipynb",
      "provenance": [],
      "collapsed_sections": []
    },
    "kernelspec": {
      "name": "python3",
      "display_name": "Python 3"
    },
    "language_info": {
      "name": "python"
    }
  },
  "cells": [
    {
      "cell_type": "code",
      "metadata": {
        "colab": {
          "base_uri": "https://localhost:8080/"
        },
        "id": "ZdRaN55PrOzZ",
        "outputId": "c3dfc62c-0507-4777-f086-8ad96b9719b4"
      },
      "source": [
        "class Nodo:\n",
        "  def __init__ (self):\n",
        "    print (\"El constructor\")\n",
        "\n",
        "x = Nodo()"
      ],
      "execution_count": null,
      "outputs": [
        {
          "output_type": "stream",
          "name": "stdout",
          "text": [
            "El constructor\n"
          ]
        }
      ]
    },
    {
      "cell_type": "code",
      "metadata": {
        "colab": {
          "base_uri": "https://localhost:8080/"
        },
        "id": "Z0p0ALMdr2tM",
        "outputId": "807361c3-973d-4693-bdd3-ed1e38c0e162"
      },
      "source": [
        "class Nodo:\n",
        "  def __init__ (self, dato):\n",
        "    self.contenido = dato\n",
        "\n",
        "x = Nodo(4)\n",
        "print(x.contenido)"
      ],
      "execution_count": null,
      "outputs": [
        {
          "output_type": "stream",
          "name": "stdout",
          "text": [
            "4\n"
          ]
        }
      ]
    },
    {
      "cell_type": "code",
      "metadata": {
        "colab": {
          "base_uri": "https://localhost:8080/"
        },
        "id": "YEgM4zC_sgNZ",
        "outputId": "4f10b2a8-3af5-4422-edaf-22544db3c39b"
      },
      "source": [
        "class Nodo:\n",
        "  def __init__ (self, dato):\n",
        "    self.contenido = dato\n",
        "    self.izquierdo = None\n",
        "    self.derecho = None\n",
        "\n",
        "x = Nodo(4)\n",
        "print(x.contenido)\n",
        "print(x.izquierdo)\n",
        "print(x.derecho)"
      ],
      "execution_count": null,
      "outputs": [
        {
          "output_type": "stream",
          "name": "stdout",
          "text": [
            "4\n",
            "None\n",
            "None\n"
          ]
        }
      ]
    },
    {
      "cell_type": "code",
      "metadata": {
        "colab": {
          "base_uri": "https://localhost:8080/"
        },
        "id": "_xqFu7m3s3tD",
        "outputId": "87f3ba4f-31f3-4cd5-d3df-cab668090964"
      },
      "source": [
        "class Nodo:\n",
        "  def __init__ (self, dato):\n",
        "    self.contenido = dato\n",
        "    self.izquierdo = None\n",
        "    self.derecho = None\n",
        "\n",
        "cabeza = Nodo(10)\n",
        "cabeza.izquierda = Nodo(5)\n",
        "cabeza.derecha = Nodo(30)\n",
        "\n",
        "print(cabeza.contenido)\n",
        "print(cabeza.izquierda.contenido)\n",
        "print(cabeza.derecha.contenido)"
      ],
      "execution_count": null,
      "outputs": [
        {
          "output_type": "stream",
          "name": "stdout",
          "text": [
            "10\n",
            "5\n",
            "30\n"
          ]
        }
      ]
    },
    {
      "cell_type": "code",
      "metadata": {
        "id": "WjHy3QXstum6"
      },
      "source": [
        "class Nodo:\n",
        "  def __init__ (self, dato):\n",
        "    self.contenido = dato\n",
        "    self.izquierda = None\n",
        "    self.derecha = None\n",
        "\n",
        "cabeza = Nodo(7)\n",
        "\n",
        "cabeza.izquierda = Nodo(2)\n",
        "cabeza.derecha = Nodo(25)\n",
        "\n",
        "cabeza.izquierda.izquierda = Nodo(0)\n",
        "cabeza.izquierda.derecha = Nodo(5)\n",
        "\n",
        "cabeza.derecha.izquierda = Nodo(9)\n",
        "cabeza.derecha.derecha = Nodo(80)\n",
        "\n",
        "cabeza.derecha.izquierda.izquierda = Nodo(8)\n",
        "cabeza.derecha.izquierda.derecha = Nodo(15) \n"
      ],
      "execution_count": null,
      "outputs": []
    },
    {
      "cell_type": "code",
      "metadata": {
        "colab": {
          "base_uri": "https://localhost:8080/"
        },
        "id": "a-l7q0NZu5ZJ",
        "outputId": "7c0480d0-62cf-42be-dafb-35aee5699838"
      },
      "source": [
        "class Nodo:\n",
        "  def __init__ (self, dato):\n",
        "    self.contenido = dato\n",
        "    self.izquierda = None\n",
        "    self.derecha = None\n",
        "\n",
        "cabeza = Nodo(7)\n",
        "\n",
        "cabeza.izquierda = Nodo(2)\n",
        "cabeza.derecha = Nodo(25)\n",
        "\n",
        "cabeza.izquierda.izquierda = Nodo(0)\n",
        "cabeza.izquierda.derecha = Nodo(5)\n",
        "\n",
        "cabeza.derecha.izquierda = Nodo(9)\n",
        "cabeza.derecha.derecha = Nodo(80)\n",
        "\n",
        "cabeza.derecha.izquierda.izquierda = Nodo(8)\n",
        "cabeza.derecha.izquierda.derecha = Nodo(15) \n",
        "\n",
        "def imprimir( nodo ):\n",
        "  if ( nodo == None ):\n",
        "    return\n",
        "  else:\n",
        "    print( nodo.contenido)\n",
        "    imprimir( nodo.izquierda )\n",
        "    imprimir( nodo.derecha)\n",
        "\n",
        "imprimir( cabeza )\n"
      ],
      "execution_count": null,
      "outputs": [
        {
          "output_type": "stream",
          "name": "stdout",
          "text": [
            "7\n",
            "2\n",
            "0\n",
            "5\n",
            "25\n",
            "9\n",
            "8\n",
            "15\n",
            "80\n"
          ]
        }
      ]
    },
    {
      "cell_type": "code",
      "metadata": {
        "colab": {
          "base_uri": "https://localhost:8080/"
        },
        "id": "N3bBrML-wWEA",
        "outputId": "5e399ade-db2c-4b80-f752-816fa27c4b79"
      },
      "source": [
        "class Nodo:\n",
        "  def __init__ (self, dato):\n",
        "    self.contenido = dato\n",
        "    self.izquierda = None\n",
        "    self.derecha = None\n",
        "\n",
        "cabeza = Nodo(7)\n",
        "\n",
        "cabeza.izquierda = Nodo(2)\n",
        "cabeza.derecha = Nodo(25)\n",
        "\n",
        "cabeza.izquierda.izquierda = Nodo(0)\n",
        "cabeza.izquierda.derecha = Nodo(5)\n",
        "\n",
        "cabeza.derecha.izquierda = Nodo(9)\n",
        "cabeza.derecha.derecha = Nodo(80)\n",
        "\n",
        "cabeza.derecha.izquierda.izquierda = Nodo(8)\n",
        "cabeza.derecha.izquierda.derecha = Nodo(15) \n",
        "\n",
        "def imprimir( nodo, direccion ):\n",
        "  if (direccion != None):\n",
        "    print(\"Se mueve hacia\" + direccion)\n",
        "  if ( nodo == None ):\n",
        "    print(\"El nodo está vacío. Regresa al padre\")\n",
        "    return\n",
        "  else:\n",
        "    print( nodo.contenido)\n",
        "    imprimir( nodo.izquierda, \" la izquierda\" )\n",
        "    imprimir( nodo.derecha, \" la derecha\")\n",
        "    print(\"El nodo ya fue procesado. Regresa al padre\")\n",
        "\n",
        "imprimir( cabeza, None )\n"
      ],
      "execution_count": 1,
      "outputs": [
        {
          "output_type": "stream",
          "name": "stdout",
          "text": [
            "7\n",
            "Se mueve hacia la izquierda\n",
            "2\n",
            "Se mueve hacia la izquierda\n",
            "0\n",
            "Se mueve hacia la izquierda\n",
            "El nodo está vacío. Regresa al padre\n",
            "Se mueve hacia la derecha\n",
            "El nodo está vacío. Regresa al padre\n",
            "El nodo ya fue procesado. Regresa al padre\n",
            "Se mueve hacia la derecha\n",
            "5\n",
            "Se mueve hacia la izquierda\n",
            "El nodo está vacío. Regresa al padre\n",
            "Se mueve hacia la derecha\n",
            "El nodo está vacío. Regresa al padre\n",
            "El nodo ya fue procesado. Regresa al padre\n",
            "El nodo ya fue procesado. Regresa al padre\n",
            "Se mueve hacia la derecha\n",
            "25\n",
            "Se mueve hacia la izquierda\n",
            "9\n",
            "Se mueve hacia la izquierda\n",
            "8\n",
            "Se mueve hacia la izquierda\n",
            "El nodo está vacío. Regresa al padre\n",
            "Se mueve hacia la derecha\n",
            "El nodo está vacío. Regresa al padre\n",
            "El nodo ya fue procesado. Regresa al padre\n",
            "Se mueve hacia la derecha\n",
            "15\n",
            "Se mueve hacia la izquierda\n",
            "El nodo está vacío. Regresa al padre\n",
            "Se mueve hacia la derecha\n",
            "El nodo está vacío. Regresa al padre\n",
            "El nodo ya fue procesado. Regresa al padre\n",
            "El nodo ya fue procesado. Regresa al padre\n",
            "Se mueve hacia la derecha\n",
            "80\n",
            "Se mueve hacia la izquierda\n",
            "El nodo está vacío. Regresa al padre\n",
            "Se mueve hacia la derecha\n",
            "El nodo está vacío. Regresa al padre\n",
            "El nodo ya fue procesado. Regresa al padre\n",
            "El nodo ya fue procesado. Regresa al padre\n",
            "El nodo ya fue procesado. Regresa al padre\n"
          ]
        }
      ]
    },
    {
      "cell_type": "code",
      "metadata": {
        "id": "GrYVDz2qqCnP"
      },
      "source": [
        "class Nodo:\n",
        "  pass"
      ],
      "execution_count": null,
      "outputs": []
    },
    {
      "cell_type": "code",
      "source": [
        "# Escribir una función para sumar el contenido del árbol recursivamente\n",
        "\n",
        "class Nodo:\n",
        "  def __init__ (self, dato):\n",
        "    self.contenido = dato\n",
        "    self.izquierda = None\n",
        "    self.derecha = None\n",
        "\n",
        "cabeza = Nodo(7)\n",
        "\n",
        "cabeza.izquierda = Nodo(2)\n",
        "\n",
        "cabeza.izquierda.izquierda = Nodo(0)\n",
        "cabeza.izquierda.derecha = Nodo(5)\n",
        "\n",
        "cabeza.derecha.izquierda = Nodo(9)\n",
        "cabeza.derecha.derecha = Nodo(80)\n",
        "\n",
        "cabeza.derecha.izquierda.izquierda = Nodo(8)\n",
        "cabeza.derecha.izquierda.derecha = Nodo(15) \n",
        "\n",
        "cabeza.derecha = Nodo(25)\n",
        "\n",
        "def sumar ( nodo ):\n",
        "  if ( nodo == None ):\n",
        "    return 0\n",
        "  return nodo.contenido + sumar(nodo.izquierda) + sumar(nodo.derecha)\n",
        "\n",
        "print ( sumar ( cabeza ) )"
      ],
      "metadata": {
        "colab": {
          "base_uri": "https://localhost:8080/"
        },
        "id": "OD_8kpRsjP41",
        "outputId": "1c3e07c1-88a6-4d36-864b-c8e44961ef57"
      },
      "execution_count": null,
      "outputs": [
        {
          "output_type": "stream",
          "name": "stdout",
          "text": [
            "151\n"
          ]
        }
      ]
    },
    {
      "cell_type": "code",
      "source": [
        "# Función para encontrar el valor mayor dentro del árbol\n",
        "\n",
        "class Nodo:\n",
        "  def __init__ (self, dato):\n",
        "    self.contenido = dato\n",
        "    self.izquierda = None\n",
        "    self.derecha = None\n",
        "\n",
        "cabeza = Nodo(7)\n",
        "\n",
        "cabeza.izquierda = Nodo(2)\n",
        "cabeza.derecha = Nodo(25)\n",
        "\n",
        "cabeza.izquierda.izquierda = Nodo(0)\n",
        "cabeza.izquierda.derecha = Nodo(5)\n",
        "\n",
        "cabeza.derecha.izquierda = Nodo(9)\n",
        "cabeza.derecha.derecha = Nodo(80)\n",
        "\n",
        "cabeza.derecha.izquierda.izquierda = Nodo(8)\n",
        "cabeza.derecha.izquierda.derecha = Nodo(15) \n",
        "\n",
        "def mayor ( nodo, valor ):\n",
        "  if ( nodo == None ):\n",
        "    return valor\n",
        "  if ( nodo.contenido > valor ):\n",
        "    valor = nodo.contenido\n",
        "  n1 = mayor ( nodo.izquierda, valor )\n",
        "  n2 = mayor ( nodo.derecha, valor )\n",
        "  if ( n1 > n2 ):\n",
        "    return n1\n",
        "  else:\n",
        "    return n2\n",
        "\n",
        "print ( mayor ( cabeza, cabeza.contenido ) )"
      ],
      "metadata": {
        "colab": {
          "base_uri": "https://localhost:8080/"
        },
        "id": "tgRFK7x-jsN1",
        "outputId": "5c3ebe2d-3a1a-4792-99cc-b7d926b13989"
      },
      "execution_count": null,
      "outputs": [
        {
          "output_type": "stream",
          "name": "stdout",
          "text": [
            "80\n"
          ]
        }
      ]
    },
    {
      "cell_type": "code",
      "source": [
        "# Función para buscar un elemento dentro del árbol\n",
        "\n",
        "class Nodo:\n",
        "  def __init__ (self, dato):\n",
        "    self.contenido = dato\n",
        "    self.izquierda = None\n",
        "    self.derecha = None\n",
        "\n",
        "cabeza = Nodo(7)\n",
        "\n",
        "cabeza.izquierda = Nodo(2)\n",
        "cabeza.derecha = Nodo(25)\n",
        "\n",
        "cabeza.izquierda.izquierda = Nodo(0)\n",
        "cabeza.izquierda.derecha = Nodo(5)\n",
        "\n",
        "cabeza.derecha.izquierda = Nodo(9)\n",
        "cabeza.derecha.derecha = Nodo(80)\n",
        "\n",
        "cabeza.derecha.izquierda.izquierda = Nodo(8)\n",
        "cabeza.derecha.izquierda.derecha = Nodo(15) \n",
        "\n",
        "def buscar ( nodo, valor ):\n",
        "  if ( nodo == None ):\n",
        "    return False\n",
        "  if ( nodo.contenido == valor ):\n",
        "    return True\n",
        "  else:\n",
        "    aux1 = buscar ( nodo.izquierda, valor )\n",
        "    if ( aux1 == True ):\n",
        "      return True\n",
        "    else:\n",
        "      aux2 = buscar ( nodo.derecha, valor )\n",
        "      return aux2\n",
        "\n",
        "if ( buscar ( cabeza, 77 ) == True ):\n",
        "  print (\"Lo encontramos\")\n",
        "else:\n",
        "  print (\"NO lo encontramos\")"
      ],
      "metadata": {
        "colab": {
          "base_uri": "https://localhost:8080/"
        },
        "id": "OJHxHWoqjyZt",
        "outputId": "9677b972-9854-47d3-a280-de0e09d142f5"
      },
      "execution_count": null,
      "outputs": [
        {
          "output_type": "stream",
          "name": "stdout",
          "text": [
            "NO lo encontramos\n"
          ]
        }
      ]
    },
    {
      "cell_type": "code",
      "source": [
        "class Nodo:\n",
        "  def __init__ (self, dato):\n",
        "    self.contenido = dato\n",
        "    self.izquierda = None\n",
        "    self.derecha = None\n",
        "\n",
        "def imprimir( nodo ):\n",
        "  if ( nodo == None ):\n",
        "    return\n",
        "  else:\n",
        "    print( nodo.contenido)\n",
        "    imprimir( nodo.izquierda )\n",
        "    imprimir( nodo.derecha)\n",
        "\n",
        "def agregar( nodo, dato ):\n",
        "  if ( nodo == None ):\n",
        "    return\n",
        "  if ( dato == nodo.contenido ):\n",
        "    return\n",
        "  if ( dato < nodo.contenido ):\n",
        "    if ( nodo.izquierda == None ):\n",
        "      nodo.izquierda = Nodo( dato )\n",
        "      return\n",
        "    else:\n",
        "      agregar( nodo.izquierda, dato )\n",
        "  else:\n",
        "    if (nodo.derecha == None ):\n",
        "      nodo.derecha = Nodo( dato )\n",
        "      return\n",
        "    else:\n",
        "      agregar( nodo.derecha, dato )\n",
        "\n",
        "cabeza = Nodo( 7 )\n",
        "\n",
        "agregar( cabeza, 2 )\n",
        "imprimir( cabeza )"
      ],
      "metadata": {
        "colab": {
          "base_uri": "https://localhost:8080/"
        },
        "id": "D2bSSu96Rw4M",
        "outputId": "11cdb796-d3b9-4b66-b413-12c6d73780f9"
      },
      "execution_count": null,
      "outputs": [
        {
          "output_type": "stream",
          "name": "stdout",
          "text": [
            "7\n",
            "2\n"
          ]
        }
      ]
    }
  ]
}